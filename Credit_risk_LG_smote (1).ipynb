{
  "cells": [
    {
      "cell_type": "code",
      "execution_count": 1,
      "metadata": {
        "id": "F7fKeaZdnLCc"
      },
      "outputs": [],
      "source": [
        "import pandas as pd\n",
        "import numpy as np\n",
        "from sklearn import preprocessing\n",
        "import matplotlib.pyplot as plt \n",
        "plt.rc(\"font\", size=14)\n",
        "from sklearn.linear_model import LogisticRegression\n",
        "from sklearn.model_selection import train_test_split\n",
        "import seaborn as sns\n",
        "sns.set(style=\"white\")\n",
        "sns.set(style=\"whitegrid\", color_codes=True)"
      ]
    },
    {
      "cell_type": "code",
      "execution_count": 2,
      "metadata": {
        "colab": {
          "base_uri": "https://localhost:8080/"
        },
        "id": "wFg3mj2mkZ3w",
        "outputId": "8a93d724-513b-4b7b-9f5b-edebb391896c"
      },
      "outputs": [
        {
          "output_type": "stream",
          "name": "stdout",
          "text": [
            "Mounted at /content/gdrive\n"
          ]
        }
      ],
      "source": [
        "from google.colab import drive\n",
        "drive.mount(\"/content/gdrive\")"
      ]
    },
    {
      "cell_type": "markdown",
      "source": [
        "\n",
        "(https://github.com/frm-garp/Logistic-Regression-in-Python--Predict-the-Probability-of-Default-of-an-Individual)"
      ],
      "metadata": {
        "id": "bp05utsfogl7"
      }
    },
    {
      "cell_type": "markdown",
      "source": [
        "[link text]\n",
        "(https://medium.com/@polanitzer/logistic-regression-in-python-predict-the-probability-of-default-of-an-individual-8a0091da3775)"
      ],
      "metadata": {
        "id": "bRNnTfYsqDDJ"
      }
    },
    {
      "cell_type": "code",
      "execution_count": 18,
      "metadata": {
        "id": "hODRWKqtk8OF"
      },
      "outputs": [],
      "source": [
        "data=pd.read_excel(\"/content/gdrive/MyDrive/Bank credit risk LG/Bank Default.xlsx\")"
      ]
    },
    {
      "cell_type": "code",
      "execution_count": null,
      "metadata": {
        "id": "qECs5bdYmCUk"
      },
      "outputs": [],
      "source": [
        "data.info()\n",
        "data.describe()"
      ]
    },
    {
      "cell_type": "markdown",
      "metadata": {
        "id": "MnetDN41ekvg"
      },
      "source": [
        "### We dont have any missing values"
      ]
    },
    {
      "cell_type": "code",
      "execution_count": null,
      "metadata": {
        "id": "CnRNU3IMeghp"
      },
      "outputs": [],
      "source": [
        "data.isnull().sum()"
      ]
    },
    {
      "cell_type": "code",
      "execution_count": null,
      "metadata": {
        "id": "Y5c9EAhimSH7"
      },
      "outputs": [],
      "source": [
        "data.isnull().sum()\n",
        "data.shape\n",
        "data.columns"
      ]
    },
    {
      "cell_type": "code",
      "execution_count": null,
      "metadata": {
        "id": "NwW8ZX_VfjXB"
      },
      "outputs": [],
      "source": [
        "data.shape  # We have 10 variables"
      ]
    },
    {
      "cell_type": "markdown",
      "metadata": {
        "id": "Ghry6z_mmcVt"
      },
      "source": [
        "Input variables\n",
        "\n",
        "\n",
        "1.   loan_applicant_id (numeric)\n",
        "2.   age (numeric)\n",
        "3.    education : level of education (categorical)\n",
        "4.     years_with_current_employer (numeric)\n",
        "5.     years_at_current_address (numeric)\n",
        "6.     household_income: in thousands of USD (numeric)\n",
        "7.     debt_to_income_ratio: in percent (numeric)\n",
        "8.     credit_card_debt: in thousands of USD (numeric)\n",
        "9.      other_debt: in thousands of USD (numeric)"
      ]
    },
    {
      "cell_type": "markdown",
      "metadata": {
        "id": "nlJrvK00fA0N"
      },
      "source": [
        "# Desrtiptive statistics for categorical variables"
      ]
    },
    {
      "cell_type": "code",
      "execution_count": null,
      "metadata": {
        "id": "-0PfbFECjBYw"
      },
      "outputs": [],
      "source": [
        "sns.countplot(x=\"y\",data=data,palette=\"Blues\")"
      ]
    },
    {
      "cell_type": "code",
      "execution_count": null,
      "metadata": {
        "id": "M-glggpymJbI"
      },
      "outputs": [],
      "source": [
        "sns.countplot(x=\"education\",data=data)"
      ]
    },
    {
      "cell_type": "markdown",
      "metadata": {
        "id": "pAd8dZfbmWFm"
      },
      "source": [
        "## How can we plot the two categorical variable together with subplots"
      ]
    },
    {
      "cell_type": "code",
      "execution_count": null,
      "metadata": {
        "id": "mh68vLJKmiPI"
      },
      "outputs": [],
      "source": [
        "fig, axis=plt.subplots(2,1,figsize=(12,7))\n",
        "a=data[\"education\"]\n",
        "b=data[\"y\"]\n",
        "x=sns.countplot(a,color=\"blue\",ax=axis[0])\n",
        "x=sns.countplot(b,data=data,palette=\"Blues\",ax=axis[1])"
      ]
    },
    {
      "cell_type": "markdown",
      "source": [
        "### The code below give us the same outputs but with more elegant way"
      ],
      "metadata": {
        "id": "qwBJnCHwQyKW"
      }
    },
    {
      "cell_type": "code",
      "source": [
        "fig, axis=plt.subplots(1,2,figsize=(12,8))\n",
        "b=[\"y\",\"education\"]\n",
        "for index, value in enumerate(b):\n",
        "  sns.countplot(data[value],data=data,ax=axis[index])"
      ],
      "metadata": {
        "id": "gSqzQuAkQv1B"
      },
      "execution_count": null,
      "outputs": []
    },
    {
      "cell_type": "markdown",
      "metadata": {
        "id": "LGKHkWp8qo6L"
      },
      "source": [
        "#Descriptive statistics continues variables"
      ]
    },
    {
      "cell_type": "code",
      "execution_count": null,
      "metadata": {
        "id": "-ny2DwRNqn4Y"
      },
      "outputs": [],
      "source": [
        "# numerical variables\n",
        "# δεν χρειαζόμαστε το loan applicant_id γτ είναι η ταυτότητα του δανειολήπτη\n",
        "data[\"age\"]\n",
        "data[\"years_with_current_employer\"]\n",
        "data[\"years_at_current_address\"]\n",
        "data[\"household_income\"]\n",
        "data[\"debt_to_income_ratio\"]\n",
        "data[\"credit_card_debt\"]\n",
        "data[\"other_debt\"]"
      ]
    },
    {
      "cell_type": "markdown",
      "source": [
        "## One way to extract all the histograms is to plot individual histogram of each variable as we show below"
      ],
      "metadata": {
        "id": "u66Rgvp2QN6A"
      }
    },
    {
      "cell_type": "code",
      "execution_count": null,
      "metadata": {
        "id": "SSw0b_S3xy5Z"
      },
      "outputs": [],
      "source": [
        "\n",
        "a=data[\"age\"].values\n",
        "mean=data[\"age\"].mean()\n",
        "\n",
        "sns.distplot(a,color=\"blue\")\n",
        "plt.axvline(mean,0,1,color=\"red\")"
      ]
    },
    {
      "cell_type": "code",
      "execution_count": null,
      "metadata": {
        "id": "jGkPSHV9x7fY"
      },
      "outputs": [],
      "source": [
        "b=data[\"years_with_current_employer\"].values\n",
        "sns.distplot(b,color=\"green\")"
      ]
    },
    {
      "cell_type": "markdown",
      "source": [
        "### A more elegant way to take all the histograms of continues variables."
      ],
      "metadata": {
        "id": "UYmPFtNGRIIM"
      }
    },
    {
      "cell_type": "code",
      "execution_count": null,
      "metadata": {
        "id": "MGx-xMYKgXS4"
      },
      "outputs": [],
      "source": [
        "fig, axis=plt.subplots(1,7,figsize=(15,10))\n",
        "a=['age','years_with_current_employer','years_at_current_address','household_income','debt_to_income_ratio','credit_card_debt','other_debt']\n",
        "for index, value in enumerate(a):\n",
        "  print(index, value)\n",
        "  sns.distplot(data[value],ax=axis[index])"
      ]
    },
    {
      "cell_type": "code",
      "execution_count": null,
      "metadata": {
        "id": "Ntv41vmL0LQv"
      },
      "outputs": [],
      "source": [
        "# Δημιούργησα μία λίστα που έχει όλες τις μεταβλητές του dataframe\n",
        "sub=data[['age','years_with_current_employer','years_at_current_address','household_income','debt_to_income_ratio','credit_card_debt','other_debt']]\n",
        "for i, col in enumerate(sub.columns):\n",
        "  plt.figure(i)\n",
        "  x=sns.distplot(sub[col])\n",
        "  a.append(x)\n",
        "a"
      ]
    },
    {
      "cell_type": "markdown",
      "metadata": {
        "id": "6fY6Z7dalEL6"
      },
      "source": [
        "# We proceed with the  Clustered bar charts "
      ]
    },
    {
      "cell_type": "code",
      "execution_count": null,
      "metadata": {
        "id": "emAz8H5vmmCU"
      },
      "outputs": [],
      "source": [
        "data.columns"
      ]
    },
    {
      "cell_type": "code",
      "execution_count": null,
      "metadata": {
        "id": "FXMBEI-AlH_s"
      },
      "outputs": [],
      "source": [
        "# categorical\n",
        "sns.countplot(x=\"education\",data=data,hue=\"y\")\n"
      ]
    },
    {
      "cell_type": "code",
      "execution_count": null,
      "metadata": {
        "id": "HKELpECkwYDJ"
      },
      "outputs": [],
      "source": [
        "sns.set(style='dark',)\n",
        "res = sns.kdeplot(data['age'],data['y'],shade=True,cmap=\"Purples_d\")\n",
        "res = sns.kdeplot(data['household_income'],data['y'],shade=True,cmap=\"Blues\")\n",
        "plt.show()\n"
      ]
    },
    {
      "cell_type": "code",
      "execution_count": null,
      "metadata": {
        "id": "hXQuEEGKoHY9"
      },
      "outputs": [],
      "source": [
        "fig, axis=plt.subplots(1,7,figsize=(25,8))\n",
        "a=['age','years_with_current_employer','years_at_current_address','household_income','debt_to_income_ratio','credit_card_debt','other_debt']\n",
        "for index, value in enumerate(a):\n",
        "  sns.kdeplot(data[value],hue=data[\"y\"],shade=True,ax=axis[index])"
      ]
    },
    {
      "cell_type": "code",
      "execution_count": null,
      "metadata": {
        "id": "BOjmw14nnbZU",
        "colab": {
          "base_uri": "https://localhost:8080/"
        },
        "outputId": "b9d20ea1-8bbd-478d-f3df-dc60eafd7318"
      },
      "outputs": [
        {
          "output_type": "stream",
          "name": "stdout",
          "text": [
            "\u001b[1m percentage of no default is 88.73458288821988\n",
            "\u001b[1m percentage of default 11.265417111780131\n"
          ]
        }
      ],
      "source": [
        "count_no_default = len(data[data[\"y\"]==0])\n",
        "count_default = len(data[data[\"y\"]==1])\n",
        "pct_of_no_default = count_no_default/(count_no_default+count_default)\n",
        "print(\"\\033[1m percentage of no default is\", pct_of_no_default*100)\n",
        "pct_of_default = count_default/(count_no_default+count_default)\n",
        "print(\"\\033[1m percentage of default\", pct_of_default*100)"
      ]
    },
    {
      "cell_type": "markdown",
      "metadata": {
        "id": "3bskObVRotEY"
      },
      "source": [
        "# Correlation and heatmaps "
      ]
    },
    {
      "cell_type": "code",
      "execution_count": null,
      "metadata": {
        "id": "H4zKN3JMpeiX"
      },
      "outputs": [],
      "source": [
        "df=pd.DataFrame(data[['age','years_with_current_employer','years_at_current_address','household_income','debt_to_income_ratio','credit_card_debt','other_debt']])\n",
        "\n",
        "correlation=df.corr()\n",
        "fig, axis=plt.subplots(1,figsize=(12,7))\n",
        "# hm=sns.heatmap(pc,annot=True,annot_kws={\"size\":50},\n",
        "#              xticklabels=pc,\n",
        "#              cmap=\"Greens\")  # o heatmap παιρνει σαν δεδομένο τον πίνακα συσχετίσεων.\n",
        "\n",
        "sns.heatmap(correlation,annot=True,annot_kws={\"size\":10},\n",
        "               cmap=\"Greens\")"
      ]
    },
    {
      "cell_type": "code",
      "execution_count": null,
      "metadata": {
        "id": "f7y3u4TcrUMb"
      },
      "outputs": [],
      "source": [
        "x=sns.pairplot(data)"
      ]
    },
    {
      "cell_type": "markdown",
      "source": [
        "# Joinplots"
      ],
      "metadata": {
        "id": "gLt0KiUqVmJb"
      }
    },
    {
      "cell_type": "code",
      "source": [
        "sns.jointplot(data=data,x=\"age\",y=\"household_income\",hue=\"y\",kind='hist')"
      ],
      "metadata": {
        "id": "_jRabibnVnvP"
      },
      "execution_count": null,
      "outputs": []
    },
    {
      "cell_type": "markdown",
      "metadata": {
        "id": "-qZjmEb1svLD"
      },
      "source": [
        "# F test to recognise which variable is correlated to y. Mainly to measure the statistic importance of variables"
      ]
    },
    {
      "cell_type": "markdown",
      "metadata": {
        "id": "KuOvcfTfwzYj"
      },
      "source": [
        "### Before we proceed we have to recode all the variables. All the variables have to have arithmetic values."
      ]
    },
    {
      "cell_type": "markdown",
      "source": [
        "First way to recode avariable is by get dummies. But this way is kindly unpleasant because we are going to use F statistic and we have to have the initial variable and not it's categories."
      ],
      "metadata": {
        "id": "VHbDtXMsXgi3"
      }
    },
    {
      "cell_type": "code",
      "source": [
        "cat_vars=[\"education\"]\n",
        "for var in cat_vars:\n",
        " cat_list=\"var\"+\"_\"+var\n",
        " cat_list = pd.get_dummies(data[var], prefix=var)\n",
        " data1=data.join(cat_list)\n",
        " data=data1\n",
        "cat_vars=[\"education\"]\n",
        "data_vars=data.columns.values.tolist()\n",
        "to_keep=[i for i in data_vars if i not in cat_vars]"
      ],
      "metadata": {
        "id": "YuEzu57LXMGw"
      },
      "execution_count": null,
      "outputs": []
    },
    {
      "cell_type": "code",
      "source": [
        "data_final=data[to_keep]\n",
        "data_final.drop([\"loan_applicant_id\"], axis=1, inplace=True)  # πετάει την μεταβλητή loan applicant id\n",
        "data_final.columns.values"
      ],
      "metadata": {
        "id": "6zF1Nlx5XTgJ"
      },
      "execution_count": null,
      "outputs": []
    },
    {
      "cell_type": "markdown",
      "source": [
        "## We are going to use the np.where or replace funtion to decide the education"
      ],
      "metadata": {
        "id": "8F9gee_iX4Oo"
      }
    },
    {
      "cell_type": "code",
      "source": [
        "data[\"education\"].nunique\n",
        "#sns.countplot(data[\"education\"],data=data)"
      ],
      "metadata": {
        "id": "Zt31ilwQYEcf"
      },
      "execution_count": null,
      "outputs": []
    },
    {
      "cell_type": "code",
      "source": [
        "# replacing values\n",
        "data[\"education\"].replace([\"illiterate\",\"basic\",\"high.school\",\"professional.course\",\"university.degree\"],\n",
        "                        [0,1,2,3,4], inplace=True)"
      ],
      "metadata": {
        "id": "OIfF6mgWZS16"
      },
      "execution_count": null,
      "outputs": []
    },
    {
      "cell_type": "code",
      "source": [
        "data"
      ],
      "metadata": {
        "id": "koIi8RzYad3r"
      },
      "execution_count": null,
      "outputs": []
    },
    {
      "cell_type": "code",
      "source": [
        "data.drop([\"loan_applicant_id\"],axis=1,inplace=True)\n"
      ],
      "metadata": {
        "id": "2njfNR26aLgN"
      },
      "execution_count": null,
      "outputs": []
    },
    {
      "cell_type": "code",
      "source": [
        "data"
      ],
      "metadata": {
        "id": "XZP37wze6MzD"
      },
      "execution_count": null,
      "outputs": []
    },
    {
      "cell_type": "code",
      "execution_count": null,
      "metadata": {
        "id": "RUUEae7Yun13"
      },
      "outputs": [],
      "source": [
        "from sklearn.model_selection import train_test_split\n",
        "Χ=data.iloc[:,:-1]\n",
        "y=data[\"y\"]\n",
        "# Split dataset to select feature and evaluate the classifier\n",
        "X_train, X_test, y_train, y_test = train_test_split(Χ, y, stratify=y, random_state=0)"
      ]
    },
    {
      "cell_type": "code",
      "execution_count": null,
      "metadata": {
        "id": "ZHQ0vfCO0Gpk"
      },
      "outputs": [],
      "source": [
        "from sklearn.feature_selection import SelectKBest, f_classif\n",
        "\n",
        "features_responses=data.columns.tolist()\n",
        "\n",
        "[f_stat, f_p_value]=f_classif(Χ,y)\n",
        "\n",
        "f_test_df = pd.DataFrame({'Feature':features_responses[:-1],'F statistic':f_stat,\"p_value\":f_p_value})\n",
        "f_test_df\n",
        "\n",
        "f_test_df.sort_values('p_value',ascending=False)\n"
      ]
    },
    {
      "cell_type": "markdown",
      "source": [
        "So the most important values are the education, age and the debt to income ratio"
      ],
      "metadata": {
        "id": "x2u6es0Ic2Yc"
      }
    },
    {
      "cell_type": "code",
      "source": [
        "sns.barplot(x=\"Feature\",y=\"p_value\",data=f_test_df)"
      ],
      "metadata": {
        "id": "ku6p82ywbWck"
      },
      "execution_count": null,
      "outputs": []
    },
    {
      "cell_type": "code",
      "execution_count": null,
      "metadata": {
        "id": "pE6eztFXxLsi"
      },
      "outputs": [],
      "source": [
        "import matplotlib.pyplot as plt\n",
        "\n",
        "X_indices = np.arange(data_final.shape[-1])\n",
        "X_indices\n",
        "plt.figure(1)\n",
        "plt.clf()\n",
        "plt.bar(x=\"Feature\",height=\"p_value\",data=f_test_df,width=0.2)\n",
        "plt.title(\"Feature univariate score\")\n",
        "plt.xlabel(\"Feature number\")\n",
        "plt.ylabel(r\"Univariate score ($-Log(p_{value})$)\")\n",
        "plt.show()"
      ]
    },
    {
      "cell_type": "markdown",
      "metadata": {
        "id": "TdoKCPxaoDsr"
      },
      "source": [
        "###In general is good to groypby the response variable and after apply some function such as mean or sum or median, so you can see some insights, to see some details "
      ]
    },
    {
      "cell_type": "code",
      "execution_count": null,
      "metadata": {
        "id": "9FXbxcR3n8Bs"
      },
      "outputs": [],
      "source": [
        "data.groupby(\"y\").mean()"
      ]
    },
    {
      "cell_type": "code",
      "execution_count": null,
      "metadata": {
        "id": "kG_zHdhxoWq7"
      },
      "outputs": [],
      "source": [
        "data.groupby(\"education\").mean()"
      ]
    },
    {
      "cell_type": "code",
      "execution_count": null,
      "metadata": {
        "id": "RCrJAahSpSHG"
      },
      "outputs": [],
      "source": [
        "data[\"age\"].loc[data[\"y\"]==0].describe()"
      ]
    },
    {
      "cell_type": "code",
      "execution_count": null,
      "metadata": {
        "id": "oyQBXfrBpkIC"
      },
      "outputs": [],
      "source": [
        "data[\"age\"].loc[data[\"y\"]==1].describe()"
      ]
    },
    {
      "cell_type": "code",
      "execution_count": null,
      "metadata": {
        "id": "cfTBcIghpraB"
      },
      "outputs": [],
      "source": [
        "table=pd.crosstab(data.education,data.y)\n",
        "table.div(table.sum(1).astype(float), axis=0).plot(kind=\"bar\", stacked=True)\n",
        "plt.title(\"Stacked Bar Chart of Education vs Default\")\n",
        "plt.xlabel(\"Education\")\n",
        "plt.ylabel(\"Proportion of Applicants\")\n",
        "plt.savefig(\"education_vs_def_stack\")"
      ]
    },
    {
      "cell_type": "markdown",
      "metadata": {
        "id": "975puxHlrCoA"
      },
      "source": [
        "# Data preparetion"
      ]
    },
    {
      "cell_type": "code",
      "source": [
        "new=data.loc[:,data.columns!=\"loan_applicant_id\"]\n",
        "data"
      ],
      "metadata": {
        "id": "HjYo2CJjB7Vh"
      },
      "execution_count": null,
      "outputs": []
    },
    {
      "cell_type": "code",
      "execution_count": 25,
      "metadata": {
        "id": "KMf0SbOcrC1k"
      },
      "outputs": [],
      "source": [
        "cat_vars=[\"education\"]\n",
        "for var in cat_vars:\n",
        " cat_list=\"var\"+\"_\"+var\n",
        " cat_list = pd.get_dummies(data[var], prefix=var)\n",
        " data1=data.join(cat_list)\n",
        " data=data1\n",
        "cat_vars=[\"education\"]\n",
        "data_vars=data.columns.values.tolist()\n",
        "to_keep=[i for i in data_vars if i not in cat_vars]"
      ]
    },
    {
      "cell_type": "code",
      "execution_count": null,
      "metadata": {
        "id": "NlPKKPz0rNpc"
      },
      "outputs": [],
      "source": [
        "data_final=data[to_keep]\n",
        "#data_final.drop([\"loan_applicant_id\"], axis=1, inplace=True)  # πετάει την μεταβλητή loan applicant id\n",
        "data_final.columns.values"
      ]
    },
    {
      "cell_type": "code",
      "execution_count": null,
      "metadata": {
        "id": "vSyvQJLl8-X8"
      },
      "outputs": [],
      "source": [
        "data_final.columns"
      ]
    },
    {
      "cell_type": "markdown",
      "source": [
        "#Four ways to do feature selection\n",
        "1. F-statistic\n",
        "2. PCA\n",
        "3. Clasifier Trees\n",
        "4. RFE\n",
        "\n",
        "> Indented block\n",
        "\n",
        "\n",
        "[link text] (https://scikit-learn.org/stable/modules/feature_selection.html)"
      ],
      "metadata": {
        "id": "5VtwPcR9BsU7"
      }
    },
    {
      "cell_type": "markdown",
      "source": [
        "#PCA"
      ],
      "metadata": {
        "id": "4ALkM-zJB4CL"
      }
    },
    {
      "cell_type": "markdown",
      "source": [
        " 1. Πρώτα χωρίζουμε τις ανεξάρτητες απο τις εξαρτημένες μεταβλητές μας. \n",
        " 2. Κατοπίν κάνουμε scale τις ανεξάρτητες.\n",
        " 3. Εφαρμοζουμε PCA \n",
        " 4. Εφαρμόζουμε Scree plot, Threshold, Eigenvalues για να πάρουμε τις καλύτερες    συνιστώσες"
      ],
      "metadata": {
        "id": "Gg1SGiVgKFn7"
      }
    },
    {
      "cell_type": "code",
      "source": [
        "#data_final\n",
        "from sklearn.preprocessing import StandardScaler\n",
        "from sklearn.decomposition import PCA"
      ],
      "metadata": {
        "id": "G_Z_PRL4Brls"
      },
      "execution_count": 30,
      "outputs": []
    },
    {
      "cell_type": "code",
      "source": [
        "data_final.shape"
      ],
      "metadata": {
        "id": "se6EXDtLLEiA"
      },
      "execution_count": null,
      "outputs": []
    },
    {
      "cell_type": "code",
      "source": [
        "std_slc = StandardScaler()\n",
        "X=data_final.loc[:,data_final.columns != \"y\"]\n",
        "X.shape\n",
        "X_scaled = std_slc.fit_transform(X)"
      ],
      "metadata": {
        "id": "jLig3SuPCJ4L"
      },
      "execution_count": 31,
      "outputs": []
    },
    {
      "cell_type": "markdown",
      "source": [
        "The n_components argument will define the number of components that we want to reduce the features to.\n",
        "With the code above, you can see that applying PCA didn’t impact the number of rows, but did impact the number of columns"
      ],
      "metadata": {
        "id": "fr7E-JB7FkkY"
      }
    },
    {
      "cell_type": "code",
      "source": [
        "from sklearn import decomposition, datasets\n",
        "#pca = decomposition.PCA(n_components=4)\n",
        "pca = decomposition.PCA()\n",
        "pca_features=pca.fit_transform(X_scaled)"
      ],
      "metadata": {
        "id": "aFLOGe83DCGb"
      },
      "execution_count": 32,
      "outputs": []
    },
    {
      "cell_type": "code",
      "source": [
        "pca_features"
      ],
      "metadata": {
        "id": "N1r3z9LzGE9I"
      },
      "execution_count": null,
      "outputs": []
    },
    {
      "cell_type": "code",
      "source": [
        "#pca_df = pd.DataFrame(data=pca_features)\n",
        "\n",
        "pca_df = pd.DataFrame(\n",
        "     data=pca_features, \n",
        "     columns=['PC1', 'PC2', 'PC3',\"PC4\",\"PC5\",\"PC6\",\"PC7\",\"PC8\",\"PC9\",\"PC10\",\"PC11\",\"PC12\"])\n",
        "\n",
        "pca_df"
      ],
      "metadata": {
        "id": "6G3wsi6RGPJv"
      },
      "execution_count": null,
      "outputs": []
    },
    {
      "cell_type": "markdown",
      "source": [
        "Ποιες απο αυτές τις συνιστώσες ειναι σημαντικές και ποιες όχι"
      ],
      "metadata": {
        "id": "D8kgdBJNLlKE"
      }
    },
    {
      "cell_type": "code",
      "source": [
        "pca = PCA().fit(X_scaled)\n",
        "\n",
        "\n",
        "import matplotlib.pyplot as plt\n",
        "\n",
        "plt.rcParams[\"figure.figsize\"] = (12,6)\n",
        "\n",
        "fig, ax = plt.subplots()\n",
        "\n",
        "xi = np.arange(1, 13, step=1)\n",
        "y = np.cumsum(pca.explained_variance_ratio_)\n",
        "\n",
        "plt.ylim(0.0,1.1)\n",
        "plt.plot(xi, y, marker='o', linestyle='--', color='b')\n",
        "\n",
        "plt.xlabel('Number of Components')\n",
        "plt.xticks(np.arange(0, 11, step=1)) #change from 0-based array index to 1-based human-readable label\n",
        "plt.ylabel('Cumulative variance (%)')\n",
        "plt.title('The number of components needed to explain variance')\n",
        "\n",
        "plt.axhline(y=0.95, color='r', linestyle='-')\n",
        "plt.text(0.5, 0.85, '95% cut-off threshold', color = 'red', fontsize=16)\n",
        "\n",
        "ax.grid(axis='x')\n",
        "plt.show()"
      ],
      "metadata": {
        "id": "k0AjLOevJhft"
      },
      "execution_count": null,
      "outputs": []
    },
    {
      "cell_type": "markdown",
      "source": [
        "Χρειαζόμαστε 10 κύριες συνιστώσες"
      ],
      "metadata": {
        "id": "bz2tXhB8LzDd"
      }
    },
    {
      "cell_type": "code",
      "source": [
        "pca.explained_variance_"
      ],
      "metadata": {
        "id": "LhOYnzEOGxX1"
      },
      "execution_count": null,
      "outputs": []
    },
    {
      "cell_type": "code",
      "source": [
        "import matplotlib.pyplot as plt \n",
        " \n",
        "from sklearn.decomposition import PCA\n",
        "sns.set()\n",
        " \n",
        "# Reduce from 4 to 3 features with PCA\n",
        "pca = PCA(n_components=11)\n",
        " \n",
        "# Fit and transform data\n",
        "pca.fit_transform(X_scaled)\n",
        " \n",
        "# Bar plot of explained_variance\n",
        "plt.bar(\n",
        "    range(1,len(pca.explained_variance_)+1),\n",
        "    pca.explained_variance_\n",
        "    )\n",
        " \n",
        " \n",
        "plt.xlabel('PCA Feature')\n",
        "plt.ylabel('Explained variance')\n",
        "plt.title('Feature Explained Variance')\n",
        "plt.show()"
      ],
      "metadata": {
        "id": "kxmMBCfUG2vd"
      },
      "execution_count": null,
      "outputs": []
    },
    {
      "cell_type": "code",
      "source": [
        "import numpy as np\n",
        "import matplotlib.pyplot as plt \n",
        "import seaborn as sns\n",
        " \n",
        "from sklearn.decomposition import PCA\n",
        "sns.set()\n",
        " \n",
        "# Reduce from 4 to 3 features with PCA\n",
        "pca = PCA(n_components=12)\n",
        " \n",
        "# Fit and transform data\n",
        "reduced_features = pca.fit_transform(X_scaled)\n",
        " \n",
        "# Bar plot of explained_variance\n",
        "plt.bar(\n",
        "    range(1,len(pca.explained_variance_)+1),\n",
        "    pca.explained_variance_\n",
        "    )\n",
        " \n",
        "plt.plot(\n",
        "    range(1,len(pca.explained_variance_ )+1),\n",
        "    np.cumsum(pca.explained_variance_),\n",
        "    c='red',\n",
        "    label='Cumulative Explained Variance')\n",
        " \n",
        "plt.legend(loc='upper left')\n",
        "plt.xlabel('Number of components')\n",
        "plt.ylabel('Explained variance (eignenvalues)')\n",
        "plt.title('Scree plot')\n",
        " \n",
        "plt.show()"
      ],
      "metadata": {
        "id": "v7oGASx4HEtJ"
      },
      "execution_count": null,
      "outputs": []
    },
    {
      "cell_type": "markdown",
      "source": [
        "## Εφόσον έχουμε κάνει PCA κατόπιν μπορούμε να κάνουμε Regression το λεγόμενο PCR."
      ],
      "metadata": {
        "id": "jKDT3ZTXNn5h"
      }
    },
    {
      "cell_type": "markdown",
      "source": [
        "Unfortunately, this remarkable power of dimensionality reduction comes at the cost of not being able to understand what these components represent easily.\n",
        "Components are maintained as an attribute of the fitted PCA object and correspond to combinations of the original features:"
      ],
      "metadata": {
        "id": "3tzZEUKPNw6Z"
      }
    },
    {
      "cell_type": "code",
      "source": [
        "reduced_features=pd.DataFrame(data=reduced_features,\n",
        "                              columns=[\"PC1\",\"PC2\",\"PC3\",\"PC4\",\"PC5\",\"PC6\",\"PC7\",\"PC8\",\"PC9\",\"PC10\",\"PC11\",\"PC12\"])\n",
        "#pca_df = pd.DataFrame(\n",
        "#   data=pca_features, \n",
        "#   columns=['PC1', 'PC2', 'PC3',\"PC4\",\"PC5\",\"PC6\",\"PC7\",\"PC8\",\"PC9\",\"PC10\",\"PC11\",\"PC12\"])\n",
        "\n",
        "reduced_features.drop(\"PC12\",axis=1,inplace=True)\n"
      ],
      "metadata": {
        "id": "LaxFHIjWdsc1"
      },
      "execution_count": 39,
      "outputs": []
    },
    {
      "cell_type": "code",
      "source": [
        "#train test split \n",
        "data_final[\"y\"]\n",
        "reduced_features\n",
        "\n",
        "final=pd.concat([reduced_features,data_final[\"y\"]],axis=1)\n",
        "\n",
        "X=final.loc[:,final.columns != \"y\"]\n",
        "y=data_final[\"y\"]"
      ],
      "metadata": {
        "id": "J7nmeYpzfaWS"
      },
      "execution_count": 40,
      "outputs": []
    },
    {
      "cell_type": "code",
      "source": [
        "from sklearn.multiclass import OneVsRestClassifier\n",
        "from sklearn.ensemble import RandomForestClassifier\n",
        "from sklearn.metrics import roc_curve,auc\n",
        "from sklearn.linear_model import LogisticRegression\n",
        "\n",
        "from sklearn.model_selection import train_test_split\n",
        "\n",
        "X_train,X_test,y_train,y_test=train_test_split(X,y,test_size=0.2)"
      ],
      "metadata": {
        "id": "QLDessHdf6HX"
      },
      "execution_count": 41,
      "outputs": []
    },
    {
      "cell_type": "code",
      "source": [
        "RF=LogisticRegression()\n",
        "RF.fit(X_train,y_train)\n",
        "y_pred =RF.predict(X_test)\n",
        "y_pred_prob = RF.predict_proba(X_test)"
      ],
      "metadata": {
        "id": "VuRiFXeSg2zO"
      },
      "execution_count": 42,
      "outputs": []
    },
    {
      "cell_type": "code",
      "source": [
        "from sklearn import metrics\n",
        "#ta predicting propabilities\n",
        "y_pred_prob\n",
        "y_pred_prob[:,1]\n",
        "metrics.confusion_matrix(y_test,y_pred)\n"
      ],
      "metadata": {
        "id": "GS2sr4qmg913"
      },
      "execution_count": null,
      "outputs": []
    },
    {
      "cell_type": "code",
      "source": [
        "pos_proba = y_pred_prob[:,1]\n",
        "fpr, tpr, thresholds = metrics.roc_curve(y_test, pos_proba)\n",
        "plt.plot(fpr, tpr, '*-')\n",
        "plt.plot([0, 1], [0, 1], 'r--')\n",
        "plt.legend(['Logistic regression', 'Random chance'])\n",
        "plt.xlabel('FPR')\n",
        "plt.ylabel('TPR')\n",
        "plt.title('ROC curve')\n",
        "\n",
        "metrics.roc_auc_score(y_test, pos_proba)\n"
      ],
      "metadata": {
        "id": "k-VwfowLhFFE"
      },
      "execution_count": null,
      "outputs": []
    },
    {
      "cell_type": "markdown",
      "source": [
        "#F-test feature selection"
      ],
      "metadata": {
        "id": "kJtYVI9EDXd5"
      }
    },
    {
      "cell_type": "markdown",
      "source": [
        "The scikit-learn machine library provides an implementation of the ANOVA f-test in the f_classif() function. This function can be used in a feature selection strategy, such as selecting the top k most relevant features (largest values) via the SelectKBest class."
      ],
      "metadata": {
        "id": "OHgNaZplHrWc"
      }
    },
    {
      "cell_type": "code",
      "source": [
        "std_slc = StandardScaler()\n",
        "X=data_final.loc[:,data_final.columns != \"y\"]\n",
        "y=data_final[\"y\"]\n",
        "X.shape\n",
        "X_scaled = std_slc.fit_transform(X)"
      ],
      "metadata": {
        "id": "Jj9wblgbEJIa"
      },
      "execution_count": 102,
      "outputs": []
    },
    {
      "cell_type": "code",
      "source": [
        "from sklearn.model_selection import train_test_split\n",
        "X_train,X_test,y_train,y_test=train_test_split(X,y,test_size=0.2)"
      ],
      "metadata": {
        "id": "dSEwOQ1MDjUZ"
      },
      "execution_count": 46,
      "outputs": []
    },
    {
      "cell_type": "code",
      "source": [
        "from sklearn.feature_selection import SelectKBest, f_classif\n",
        "\n",
        "features_responses=data_final.columns.tolist()\n",
        "\n",
        "[f_stat, f_p_value]=f_classif(X,y)\n",
        "\n",
        "f_test_df = pd.DataFrame({'Feature':features_responses[:-1],'F statistic':f_stat,\"p_value\":f_p_value})\n",
        "f_test_df\n",
        "\n",
        "f_test_df.sort_values('p_value',ascending=True)"
      ],
      "metadata": {
        "id": "MLvqusRuDaea"
      },
      "execution_count": null,
      "outputs": []
    },
    {
      "cell_type": "code",
      "source": [
        "from sklearn.model_selection import train_test_split\n",
        "X_train,X_test,y_train,y_test=train_test_split(X,y,test_size=0.2)\n",
        "from sklearn.feature_selection import SelectKBest, f_classif\n",
        "\n",
        "# configure to select all features\n",
        "fs = SelectKBest(score_func=f_classif, k='all')\n",
        "# learn relationship from training data\n",
        "fs.fit(X_train, y_train)\n",
        "# transform train input data\n",
        "X_train_fs = fs.transform(X_train)\n",
        "# transform test input data\n",
        "X_test_fs = fs.transform(X_test)"
      ],
      "metadata": {
        "id": "olk8mqlSGK5h"
      },
      "execution_count": 61,
      "outputs": []
    },
    {
      "cell_type": "code",
      "source": [
        "fs.pvalues_\n",
        "fs.scores_\n",
        "fs.feature_names_in_"
      ],
      "metadata": {
        "id": "0EM3XLmbI_EE"
      },
      "execution_count": null,
      "outputs": []
    },
    {
      "cell_type": "code",
      "source": [
        "# what are scores for the features\n",
        "for i in range(len(fs.scores_)):\n",
        "\tprint('Feature %d: %f' % (i, fs.scores_[i]))\n",
        "# plot the scores\n",
        "plt.bar([i for i in range(len(fs.scores_))], fs.scores_)\n",
        "plt.show()"
      ],
      "metadata": {
        "id": "sPBkeesWGOwH"
      },
      "execution_count": null,
      "outputs": []
    },
    {
      "cell_type": "code",
      "source": [
        "new=pd.DataFrame({\"Feature\":features_responses[:-1],'F_score':fs.scores_})\n",
        "new.sort_values(by=\"F_score\",ascending=False)\n",
        "\n",
        "# εχουμε βρει τις εξι μεταβλητές που θέλουμε"
      ],
      "metadata": {
        "id": "14xRJYj-Hvd9"
      },
      "execution_count": null,
      "outputs": []
    },
    {
      "cell_type": "code",
      "source": [
        "final=data_final.loc[:,[\"household_income\",\"credit_card_debt\",\"other_debt\",\"years_with_current_employer\",\"years_at_current_address\",\"debt_to_income_ratio\",\"y\"]]\n",
        "final"
      ],
      "metadata": {
        "id": "yYqv8XyZLd7d"
      },
      "execution_count": null,
      "outputs": []
    },
    {
      "cell_type": "code",
      "source": [
        "X=final\n",
        "y=final[\"y\"]\n",
        "\n",
        "X_train, X_test, Y_train, Y_test=train_test_split(X,y,test_size=0.2)\n"
      ],
      "metadata": {
        "id": "QGwrJ2GEMkkO"
      },
      "execution_count": 85,
      "outputs": []
    },
    {
      "cell_type": "code",
      "source": [
        "logreg=LogisticRegression()\n",
        "\n",
        "logreg.fit(X_train,Y_train)"
      ],
      "metadata": {
        "colab": {
          "base_uri": "https://localhost:8080/"
        },
        "id": "1sJCbk-dM6WE",
        "outputId": "bba95593-8d12-4173-85e9-f32b47ebfa40"
      },
      "execution_count": 86,
      "outputs": [
        {
          "output_type": "execute_result",
          "data": {
            "text/plain": [
              "LogisticRegression()"
            ]
          },
          "metadata": {},
          "execution_count": 86
        }
      ]
    },
    {
      "cell_type": "code",
      "source": [
        "y_pred=logreg.predict(X_test)\n",
        "y_pred_prob = logreg.predict_proba(X_test)"
      ],
      "metadata": {
        "id": "Oa22Vj_4NCkt"
      },
      "execution_count": 87,
      "outputs": []
    },
    {
      "cell_type": "code",
      "source": [
        "from sklearn import metrics\n",
        "#ta predicting propabilities\n",
        "y_pred_prob\n",
        "y_pred_prob[:,1]\n",
        "metrics.confusion_matrix(y_test,y_pred)  "
      ],
      "metadata": {
        "colab": {
          "base_uri": "https://localhost:8080/"
        },
        "id": "_WqzYbFDNP6K",
        "outputId": "3bdd120a-370f-4f73-b59b-338eab6323d2"
      },
      "execution_count": 88,
      "outputs": [
        {
          "output_type": "execute_result",
          "data": {
            "text/plain": [
              "array([[7334,    0],\n",
              "       [ 904,    0]])"
            ]
          },
          "metadata": {},
          "execution_count": 88
        }
      ]
    },
    {
      "cell_type": "code",
      "source": [
        "pos_proba = y_pred_prob[:,1]\n",
        "fpr, tpr, thresholds = metrics.roc_curve(y_test, pos_proba)\n",
        "plt.plot(fpr, tpr, '*-')\n",
        "plt.plot([0, 1], [0, 1], 'r--')\n",
        "plt.legend(['Logistic regression', 'Random chance'])\n",
        "plt.xlabel('FPR')\n",
        "plt.ylabel('TPR')\n",
        "plt.title('ROC curve')\n",
        "\n",
        "metrics.roc_auc_score(y_test, pos_proba)"
      ],
      "metadata": {
        "id": "9nCYDOisNaxW"
      },
      "execution_count": null,
      "outputs": []
    },
    {
      "cell_type": "markdown",
      "source": [
        "#Extra Trees Clasiffier"
      ],
      "metadata": {
        "id": "Y5_woDaMZgMZ"
      }
    },
    {
      "cell_type": "code",
      "source": [
        "from sklearn.ensemble import ExtraTreesClassifier\n",
        "\n",
        "\n",
        "# Building the model\n",
        "extra_tree_forest = ExtraTreesClassifier(n_estimators = 5,\n",
        "                                        criterion ='entropy', max_features = 3)\n",
        "  \n",
        "# Training the model\n",
        "extra_tree_forest.fit(X, y)\n",
        "  \n",
        "# Computing the importance of each feature\n",
        "feature_importance = extra_tree_forest.feature_importances_\n",
        "  \n",
        "# Normalizing the individual importances\n",
        "feature_importance_normalized = np.std([tree.feature_importances_ for tree in \n",
        "                                        extra_tree_forest.estimators_],\n",
        "                                        axis = 0)"
      ],
      "metadata": {
        "id": "XmNJIFy_ZhDh"
      },
      "execution_count": null,
      "outputs": []
    },
    {
      "cell_type": "code",
      "source": [
        "feature_importance\n",
        "feature_importance_normalized\n",
        "\n",
        "lista=X.columns\n"
      ],
      "metadata": {
        "id": "KeD5BgrZZjXh"
      },
      "execution_count": null,
      "outputs": []
    },
    {
      "cell_type": "code",
      "source": [
        "lista_1=pd.DataFrame(feature_importance_normalized)\n",
        "lista_2=pd.DataFrame(lista)\n",
        "new=pd.concat([lista_2,lista_1],axis=1)\n",
        "\n",
        "new.columns=[\"Features\",\"Score\"]\n",
        "new\n",
        "new.sort_values(by=\"Score\",ascending=False)\n",
        "\n",
        "# Plotting a Bar Graph to compare the models\n",
        "\n",
        "plt_1 = plt.figure(figsize=(20, 25))\n",
        "#fig, plt_1=plt.figure(figsize=(20,25))\n",
        "plt.bar(X.columns, feature_importance_normalized)\n",
        "plt.xlabel('Feature Labels')\n",
        "plt.ylabel('Feature Importances')\n",
        "plt.title('Comparison of different Feature Importances')\n",
        "plt.show()"
      ],
      "metadata": {
        "id": "1MQp1TiyZlkh"
      },
      "execution_count": null,
      "outputs": []
    },
    {
      "cell_type": "markdown",
      "metadata": {
        "id": "fUL8Jblcrpzc"
      },
      "source": [
        "# Over-sampling using SMOTE\n",
        "With our training data created, I’ll up-sample the default using the SMOTE algorithm (Synthetic Minority Oversampling Technique). At a high level, SMOTE:\n",
        "\n",
        "Works by creating synthetic samples from the minor class (default) instead of creating copies.\n",
        "Randomly choosing one of the k-nearest-neighbors and using it to create a similar, but randomly tweaked, new observations.\n",
        "\n",
        "# from imblearn.over_sampling import SMOTE"
      ]
    },
    {
      "cell_type": "markdown",
      "source": [
        "###upsample the minority class\n",
        "df_1_upsampled = resample(df_1,random_state=42,n_samples=2,replace=True)"
      ],
      "metadata": {
        "id": "0QKtcFO9wkN0"
      }
    },
    {
      "cell_type": "markdown",
      "source": [
        "In short, the process to generate the synthetic samples are as follows.\n",
        "\n",
        "\n",
        "\n",
        "1.   Choose random data from the minority class.\n",
        "2.   Calculate the Euclidean distance between the random data and its k nearest   neighbors.\n",
        "3.    Multiply the difference with a random number between 0 and 1, then add the result to the minority class as a synthetic sample.\n",
        "4.  Repeat the procedure until the desired proportion of minority class is met."
      ],
      "metadata": {
        "id": "n8tkVAZJxpUw"
      }
    },
    {
      "cell_type": "code",
      "execution_count": 91,
      "metadata": {
        "id": "WOYBLbKXrrD7"
      },
      "outputs": [],
      "source": [
        "X = data_final.loc[:, data_final.columns != \"y\"]\n",
        "y = data_final.loc[:, data_final.columns == \"y\"]\n",
        "\n",
        "from imblearn.over_sampling import SMOTE\n",
        "\n",
        "os = SMOTE(random_state=42)\n",
        "X_train, X_test, y_train, y_test = train_test_split(X, y, test_size=0.33, random_state=42)\n",
        "\n",
        "columns = X_train.columns\n",
        "#os.fit_resample καταλαβαίνει αυτόματα ότι το y είναι ο στόχος και που πρέπει να κάνει resample\n",
        "os_data_X, os_data_y = os.fit_resample(X_train, y_train)\n",
        "\n",
        "os_data_X = pd.DataFrame(data=os_data_X,columns=columns )\n",
        "os_data_y = pd.DataFrame(data=os_data_y,columns=[\"y\"])\n"
      ]
    },
    {
      "cell_type": "code",
      "source": [
        "os\n",
        "os_data_X\n",
        "os_data_y"
      ],
      "metadata": {
        "id": "jQ1pO6GArXH7"
      },
      "execution_count": null,
      "outputs": []
    },
    {
      "cell_type": "code",
      "source": [
        "# we can Check the numbers of our data\n",
        "print(\"\\033[1m length of oversampled data is\",len(os_data_X))\n",
        "print(\"\\033[1m Number of no default in oversampled data\",len(os_data_y[os_data_y[\"y\"]==0]))\n",
        "print(\"\\033[1m Number of default\",len(os_data_y[os_data_y[\"y\"]==1]))\n",
        "print(\"\\033[1m Proportion of no default data in oversampled data is \",len(os_data_y[os_data_y[\"y\"]==0])/len(os_data_X))\n",
        "print(\"\\033[1m Proportion of default data in oversampled data is\",len(os_data_y[os_data_y[\"y\"]==1])/len(os_data_X))"
      ],
      "metadata": {
        "id": "PhhFs45HrS2M",
        "colab": {
          "base_uri": "https://localhost:8080/"
        },
        "outputId": "63e45833-3072-4893-91ef-312212ac55e1"
      },
      "execution_count": 93,
      "outputs": [
        {
          "output_type": "stream",
          "name": "stdout",
          "text": [
            "\u001b[1m length of oversampled data is 48912\n",
            "\u001b[1m Number of no default in oversampled data 24456\n",
            "\u001b[1m Number of default 24456\n",
            "\u001b[1m Proportion of no default data in oversampled data is  0.5\n",
            "\u001b[1m Proportion of default data in oversampled data is 0.5\n"
          ]
        }
      ]
    },
    {
      "cell_type": "markdown",
      "metadata": {
        "id": "zgK8xavDsAw8"
      },
      "source": [
        "Now we have a perfect balanced data! You may have noticed that I over-sampled only on the training data, because by oversampling only on the training data, none of the information in the test data is being used to create synthetic observations, therefore, no information will bleed from test data into the model training."
      ]
    },
    {
      "cell_type": "markdown",
      "metadata": {
        "id": "ihr-_XXpu0Jz"
      },
      "source": [
        "# Recursive Feature Elimination\n",
        "\n",
        "Recursive Feature Elimination (RFE) is based on the idea to repeatedly construct a model and choose either the best or worst performing feature, setting the feature aside and then repeating the process with the rest of the features. This process is applied until all features in the dataset are exhausted. The goal of RFE is to select features by recursively considering smaller and smaller sets of features.\n",
        "\n",
        "\n"
      ]
    },
    {
      "cell_type": "code",
      "execution_count": 94,
      "metadata": {
        "colab": {
          "base_uri": "https://localhost:8080/"
        },
        "id": "J63SGuRMsBsc",
        "outputId": "dfefb34c-8bf8-4f37-9be2-47167647e705"
      },
      "outputs": [
        {
          "output_type": "stream",
          "name": "stdout",
          "text": [
            "[ True False  True  True  True  True  True False False False False False]\n",
            "[1 2 1 1 1 1 1 6 5 7 4 3]\n"
          ]
        }
      ],
      "source": [
        "from sklearn.feature_selection import RFE\n",
        "from sklearn.linear_model import LogisticRegression\n",
        "\n",
        "data_final_vars=data_final.columns.values.tolist()\n",
        "y=[\"y\"]\n",
        "X=[i for i in data_final_vars if i not in y]\n",
        "\n",
        "logreg = LogisticRegression()\n",
        "#rfe = RFE(LogisticRegression(),9)\n",
        "rfe = RFE(LogisticRegression())\n",
        "rfe = rfe.fit(os_data_X, os_data_y.values.ravel())\n",
        "print(rfe.support_)\n",
        "print(rfe.ranking_)"
      ]
    },
    {
      "cell_type": "code",
      "execution_count": 95,
      "metadata": {
        "id": "ZS04cg7J_l3y",
        "colab": {
          "base_uri": "https://localhost:8080/"
        },
        "outputId": "695285f6-6c53-41eb-c176-ba3002579941"
      },
      "outputs": [
        {
          "output_type": "execute_result",
          "data": {
            "text/plain": [
              "Index(['age', 'years_with_current_employer', 'years_at_current_address',\n",
              "       'household_income', 'debt_to_income_ratio', 'credit_card_debt',\n",
              "       'other_debt', 'education_basic', 'education_high.school',\n",
              "       'education_illiterate', 'education_professional.course',\n",
              "       'education_university.degree'],\n",
              "      dtype='object')"
            ]
          },
          "metadata": {},
          "execution_count": 95
        }
      ],
      "source": [
        "os_data_X.columns"
      ]
    },
    {
      "cell_type": "code",
      "execution_count": null,
      "metadata": {
        "id": "uAnQNyKn_qpq"
      },
      "outputs": [],
      "source": [
        "data_X1 = pd.DataFrame({\n",
        " \"Feature\": os_data_X.columns,\n",
        " \"Importance\": rfe.ranking_},)\n",
        "data_X1.sort_values(by=[\"Importance\"])"
      ]
    },
    {
      "cell_type": "markdown",
      "metadata": {
        "id": "UpQxpxfH_1B6"
      },
      "source": [
        "The RFE has helped us select the following features: “years_with_current_employer”, “household_income”, “debt_to_income_ratio”, “other_debt”, “education_basic”, “education_high.school”, “education_illiterate”, “education_professional.course”, “education_university.degree”."
      ]
    },
    {
      "cell_type": "code",
      "execution_count": 97,
      "metadata": {
        "colab": {
          "base_uri": "https://localhost:8080/"
        },
        "id": "HDvLtoiF_0fE",
        "outputId": "61bdd27d-0652-4652-df23-a9008cc629bb"
      },
      "outputs": [
        {
          "output_type": "stream",
          "name": "stdout",
          "text": [
            "['age', 'years_at_current_address', 'household_income', 'debt_to_income_ratio', 'credit_card_debt', 'other_debt']\n",
            "6\n"
          ]
        }
      ],
      "source": [
        "import numpy as np\n",
        "cols=[]\n",
        "for i in range (0, len(data_X1[\"Importance\"])):\n",
        " if data_X1[\"Importance\"][i] == 1:\n",
        "  cols.append(data_X1[\"Feature\"][i])\n",
        "print(cols)\n",
        "print(len(cols))"
      ]
    },
    {
      "cell_type": "markdown",
      "metadata": {
        "id": "MiionrrfAItl"
      },
      "source": [
        "#4. Modeling"
      ]
    },
    {
      "cell_type": "code",
      "execution_count": null,
      "metadata": {
        "id": "IGDdVK1KAG-P"
      },
      "outputs": [],
      "source": [
        "X=os_data_X[cols]\n",
        "y=os_data_y[\"y\"]\n",
        "\n"
      ]
    },
    {
      "cell_type": "code",
      "execution_count": null,
      "metadata": {
        "id": "AOgYZAAMDtGr"
      },
      "outputs": [],
      "source": [
        "import statsmodels.api as sm\n",
        "logit_model=sm.Logit(y,X)\n",
        "result=logit_model.fit()\n",
        "print(result.summary2())"
      ]
    },
    {
      "cell_type": "code",
      "execution_count": null,
      "metadata": {
        "id": "c6_wmqUlEJyj"
      },
      "outputs": [],
      "source": [
        "pvalue = pd.DataFrame(result.pvalues,columns={\"p_value\"},)\n",
        "pvalue"
      ]
    },
    {
      "cell_type": "code",
      "execution_count": null,
      "metadata": {
        "colab": {
          "base_uri": "https://localhost:8080/"
        },
        "id": "5XKPoHmqEM6z",
        "outputId": "5c2f92ba-68b5-4db1-8165-2b5532fcca2f"
      },
      "outputs": [
        {
          "output_type": "stream",
          "name": "stdout",
          "text": [
            "['loan_applicant_id', 'age', 'household_income', 'debt_to_income_ratio', 'credit_card_debt', 'other_debt']\n",
            "6\n"
          ]
        }
      ],
      "source": [
        "pvs=[]\n",
        "for i in range (0, len(pvalue[\"p_value\"])):\n",
        " if pvalue[\"p_value\"][i] < 0.05:\n",
        "  pvs.append(pvalue.index[i])\n",
        "if \"const\" in pvs:\n",
        " pvs.remove(\"const\")\n",
        "else:\n",
        " pvs \n",
        "print(pvs)\n",
        "print(len(pvs))"
      ]
    },
    {
      "cell_type": "code",
      "execution_count": null,
      "metadata": {
        "id": "sb5TI0OhEZxz"
      },
      "outputs": [],
      "source": [
        "X=os_data_X[pvs]\n",
        "y=os_data_y[\"y\"]\n",
        "logit_model=sm.Logit(y,X)\n",
        "result=logit_model.fit()\n",
        "print(result.summary())"
      ]
    },
    {
      "cell_type": "markdown",
      "source": [
        "### Εχουμε διαλέξει το καλυτερο μοντέλο κρατώντας τις καλυτερες μεταβλητές"
      ],
      "metadata": {
        "id": "TLnjc0_j2nFl"
      }
    },
    {
      "cell_type": "code",
      "execution_count": null,
      "metadata": {
        "colab": {
          "base_uri": "https://localhost:8080/"
        },
        "id": "R7E-JlfFEefR",
        "outputId": "77b5969a-8599-4c55-a1a1-20d7760d802e"
      },
      "outputs": [
        {
          "output_type": "execute_result",
          "data": {
            "text/plain": [
              "LogisticRegression()"
            ]
          },
          "metadata": {},
          "execution_count": 18
        }
      ],
      "source": [
        "from sklearn.linear_model import LogisticRegression\n",
        "from sklearn import metrics\n",
        "X_train, X_test, y_train, y_test = train_test_split(X, y, test_size=0.33, random_state=42)\n",
        "logreg = LogisticRegression()\n",
        "logreg.fit(X_train, y_train)"
      ]
    },
    {
      "cell_type": "code",
      "execution_count": null,
      "metadata": {
        "colab": {
          "base_uri": "https://localhost:8080/"
        },
        "id": "zqnbF67LEhIk",
        "outputId": "0632d193-7630-4dd1-9f02-b2617f915069"
      },
      "outputs": [
        {
          "output_type": "stream",
          "name": "stdout",
          "text": [
            "Accuracy of logistic regression classifier on test set: 0.55\n"
          ]
        }
      ],
      "source": [
        "from sklearn.metrics import accuracy_score\n",
        "y_pred = logreg.predict(X_test)\n",
        "print(\"Accuracy of logistic regression classifier on test set: {:.2f}\".format(accuracy_score(y_test, y_pred)))"
      ]
    },
    {
      "cell_type": "code",
      "execution_count": null,
      "metadata": {
        "colab": {
          "base_uri": "https://localhost:8080/"
        },
        "id": "a1CKgDs-Em6j",
        "outputId": "aa053970-8c5c-4c60-ac1a-d8e4051872d8"
      },
      "outputs": [
        {
          "output_type": "stream",
          "name": "stdout",
          "text": [
            "[[2932 5097]\n",
            " [2119 5993]]\n"
          ]
        }
      ],
      "source": [
        "from sklearn.metrics import confusion_matrix\n",
        "confusion_matrix = confusion_matrix(y_test, y_pred)\n",
        "print(confusion_matrix)\n"
      ]
    },
    {
      "cell_type": "code",
      "execution_count": null,
      "metadata": {
        "colab": {
          "base_uri": "https://localhost:8080/"
        },
        "id": "jgd3zQEmEqbp",
        "outputId": "35afb1c6-9c65-4476-d380-3f1807653403"
      },
      "outputs": [
        {
          "output_type": "stream",
          "name": "stdout",
          "text": [
            "\u001b[1m The result is telling us that we have:  8925 correct predictions\u001b[1m\n",
            "\u001b[1m The result is telling us that we have:  7216 incorrect predictions\u001b[1m\n",
            "\u001b[1m We have a total predictions of:  16141\n"
          ]
        }
      ],
      "source": [
        "print(\"\\033[1m The result is telling us that we have: \",(confusion_matrix[0,0]+confusion_matrix[1,1]),\"correct predictions\\033[1m\")\n",
        "print(\"\\033[1m The result is telling us that we have: \",(confusion_matrix[0,1]+confusion_matrix[1,0]),\"incorrect predictions\\033[1m\")\n",
        "print(\"\\033[1m We have a total predictions of: \",(confusion_matrix.sum()))"
      ]
    },
    {
      "cell_type": "markdown",
      "metadata": {
        "id": "puA355gkEynC"
      },
      "source": [
        "Compute precision, recall, F-measure and support\n",
        "To quote from Scikit Learn:\n",
        "\n",
        "The precision is the ratio tp / (tp + fp) where tp is the number of true positives and fp the number of false positives. The precision is intuitively the ability of the classifier to not label a sample as positive if it is negative.\n",
        "\n",
        "The recall is the ratio tp / (tp + fn) where tp is the number of true positives and fn the number of false negatives. The recall is intuitively the ability of the classifier to find all the positive samples.\n",
        "\n",
        "The F-beta score can be interpreted as a weighted harmonic mean of the precision and recall, where an F-beta score reaches its best value at 1 and worst score at 0.\n",
        "\n",
        "The F-beta score weights the recall more than the precision by a factor of beta. beta = 1.0 means recall and precision are equally important.\n",
        "\n",
        "The support is the number of occurrences of each class in y_test."
      ]
    },
    {
      "cell_type": "code",
      "execution_count": null,
      "metadata": {
        "colab": {
          "base_uri": "https://localhost:8080/"
        },
        "id": "86PxASEbEzNJ",
        "outputId": "97f5103f-a2c0-448f-dded-a5d8f5cbb9ef"
      },
      "outputs": [
        {
          "output_type": "stream",
          "name": "stdout",
          "text": [
            "              precision    recall  f1-score   support\n",
            "\n",
            "           0       0.58      0.37      0.45      8029\n",
            "           1       0.54      0.74      0.62      8112\n",
            "\n",
            "    accuracy                           0.55     16141\n",
            "   macro avg       0.56      0.55      0.54     16141\n",
            "weighted avg       0.56      0.55      0.54     16141\n",
            "\n"
          ]
        }
      ],
      "source": [
        "from sklearn.metrics import classification_report\n",
        "print(classification_report(y_test, y_pred))"
      ]
    },
    {
      "cell_type": "markdown",
      "metadata": {
        "id": "kA3X7xmeE6vb"
      },
      "source": [
        "Interpretations:\n",
        "\n",
        "The precision of class 1 in the test set, that is the positive predicted value of our model, tells us out of all the “bad” loan applicants which our model has identified how many were actually “bad” loan applicants. So, 98% of the “bad” loan applicants which our model managed to identify were actually “bad” loan applicants.\n",
        "The recall of class 1 in the test set, that is the sensitivity of our model, tells us how many “bad” loan applicants our model has managed to identify out of all the “bad” loan applicants existing in our test set. So, our model managed to identify 83% “bad” loan applicants out of all the “bad” loan applicants existing in the test set."
      ]
    },
    {
      "cell_type": "code",
      "execution_count": null,
      "metadata": {
        "colab": {
          "base_uri": "https://localhost:8080/",
          "height": 301
        },
        "id": "De1p8NSoE7na",
        "outputId": "d8bcd41e-e680-468f-9e14-b6dfa66a1d82"
      },
      "outputs": [
        {
          "output_type": "display_data",
          "data": {
            "text/plain": [
              "<Figure size 432x288 with 1 Axes>"
            ],
            "image/png": "[encoded data removed]"
          },
          "metadata": {}
        }
      ],
      "source": [
        "from sklearn.metrics import roc_auc_score\n",
        "from sklearn.metrics import roc_curve\n",
        "logit_roc_auc = roc_auc_score(y_test, logreg.predict(X_test))\n",
        "fpr, tpr, thresholds = roc_curve(y_test, logreg.predict_proba(X_test)[:,1])\n",
        "plt.figure()\n",
        "plt.plot(fpr, tpr, label=\"Logistic Regression (area = %0.2f)\" % logit_roc_auc)\n",
        "plt.plot([0, 1], [0, 1])\n",
        "plt.xlim([0.0, 1.0])\n",
        "plt.ylim([0.0, 1.05])\n",
        "plt.xlabel(\"False Positive Rate\")\n",
        "plt.ylabel(\"True Positive Rate\")\n",
        "plt.title(\"Receiver operating characteristic\")\n",
        "plt.legend(loc=\"lower right\")\n",
        "plt.savefig(\"Log_ROC\")"
      ]
    },
    {
      "cell_type": "markdown",
      "source": [
        "# Τωρα μας ενδιαφερει το id για να συσχετίσουμε το Id me tin πιαθνοτητα μη εκπληρωσεις."
      ],
      "metadata": {
        "id": "Nw7VX6ON3MjO"
      }
    },
    {
      "cell_type": "code",
      "execution_count": null,
      "metadata": {
        "id": "_ow6kRxUFfBS"
      },
      "outputs": [],
      "source": [
        "data[\"PD\"] = logreg.predict_proba(data[X_train.columns])[:,1]\n",
        "#data[[\"PD\"]].head(10)\n",
        "data[[\"loan_applicant_id\", \"PD\"]].head(10)\n",
        "data[[\"loan_applicant_id\", \"PD\"]].sort_values(by=\"PD\",ascending=False)"
      ]
    },
    {
      "cell_type": "code",
      "execution_count": null,
      "metadata": {
        "id": "zevlxoWKFkXR"
      },
      "outputs": [],
      "source": [
        "X_train.columns"
      ]
    },
    {
      "cell_type": "code",
      "execution_count": null,
      "metadata": {
        "id": "oPSe2S6SFmPZ"
      },
      "outputs": [],
      "source": [
        "new_data = np.array([3,57,14.26,2.993,0,1,0,0,0]).reshape(1, -1)\n",
        "\n",
        "new_pred=logreg.predict_proba(new_data)[:,1][0]\n",
        "\n",
        "print(\"\\033[1m This new loan applicant has a {:.2%}\".format(new_pred), \"chance of defaulting on a new debt\")"
      ]
    }
  ],
  "metadata": {
    "colab": {
      "collapsed_sections": [],
      "toc_visible": true,
      "provenance": []
    },
    "kernelspec": {
      "display_name": "Python 3",
      "name": "python3"
    },
    "language_info": {
      "name": "python"
    }
  },
  "nbformat": 4,
  "nbformat_minor": 0
}